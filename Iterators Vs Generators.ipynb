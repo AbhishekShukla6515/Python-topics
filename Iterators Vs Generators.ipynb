{
 "cells": [
  {
   "cell_type": "markdown",
   "id": "6372a587-9c41-47a9-b1e0-92a4b6144d10",
   "metadata": {},
   "source": [
    "# Iterators vs Generators"
   ]
  },
  {
   "cell_type": "code",
   "execution_count": 2,
   "id": "9897b08e-69d7-418e-a2e0-05ddc9092874",
   "metadata": {},
   "outputs": [
    {
     "name": "stdout",
     "output_type": "stream",
     "text": [
      "1\n",
      "2\n",
      "3\n",
      "4\n"
     ]
    }
   ],
   "source": [
    "## iterable\n",
    "lst = [1,2,3,4]\n",
    "\n",
    "for i in lst:\n",
    "    print(i)"
   ]
  },
  {
   "cell_type": "markdown",
   "id": "06ecfc8f-2aa7-472a-801f-28109f081eb6",
   "metadata": {},
   "source": [
    "A list is basically a collection, and since we are able to iterate through this particular collection, this can be called as iterable."
   ]
  },
  {
   "cell_type": "code",
   "execution_count": 5,
   "id": "56c4653c-e9a3-480a-9c37-0559cfa3691b",
   "metadata": {},
   "outputs": [],
   "source": [
    "## iterator\n",
    "iterator = iter(lst)"
   ]
  },
  {
   "cell_type": "code",
   "execution_count": 8,
   "id": "e42dea11-6803-4c48-b7fc-f7075aa55056",
   "metadata": {},
   "outputs": [
    {
     "data": {
      "text/plain": [
       "list_iterator"
      ]
     },
     "execution_count": 8,
     "metadata": {},
     "output_type": "execute_result"
    }
   ],
   "source": [
    "type(iterator)"
   ]
  },
  {
   "cell_type": "code",
   "execution_count": 7,
   "id": "2053f1f3-6678-4c41-9de1-be763a6a833c",
   "metadata": {},
   "outputs": [
    {
     "name": "stdout",
     "output_type": "stream",
     "text": [
      "1\n",
      "2\n",
      "3\n",
      "4\n"
     ]
    }
   ],
   "source": [
    "for i in iterator:\n",
    "    print(i)"
   ]
  },
  {
   "cell_type": "markdown",
   "id": "f2e27c6f-b762-41e3-9235-0a3d2f68061a",
   "metadata": {},
   "source": [
    "We can also iterate through an iterator."
   ]
  },
  {
   "cell_type": "code",
   "execution_count": 10,
   "id": "d3197596-de89-494e-80a5-3626454820c1",
   "metadata": {},
   "outputs": [
    {
     "data": {
      "text/plain": [
       "<list_iterator at 0x7f8f4520a470>"
      ]
     },
     "execution_count": 10,
     "metadata": {},
     "output_type": "execute_result"
    }
   ],
   "source": [
    "iterator"
   ]
  },
  {
   "cell_type": "code",
   "execution_count": 12,
   "id": "97b05d63-2678-4193-baf6-07ece86c5aae",
   "metadata": {},
   "outputs": [],
   "source": [
    "ite = iter(lst)"
   ]
  },
  {
   "cell_type": "code",
   "execution_count": 13,
   "id": "578c2a8d-f9fd-4a2b-a205-2166df16f7bd",
   "metadata": {},
   "outputs": [
    {
     "data": {
      "text/plain": [
       "1"
      ]
     },
     "execution_count": 13,
     "metadata": {},
     "output_type": "execute_result"
    }
   ],
   "source": [
    "next(ite)"
   ]
  },
  {
   "cell_type": "code",
   "execution_count": 14,
   "id": "f447aaf4-b467-4aff-902e-cd1aac2cf8e5",
   "metadata": {},
   "outputs": [
    {
     "data": {
      "text/plain": [
       "2"
      ]
     },
     "execution_count": 14,
     "metadata": {},
     "output_type": "execute_result"
    }
   ],
   "source": [
    "next(ite)"
   ]
  },
  {
   "cell_type": "code",
   "execution_count": 15,
   "id": "4145c98a-3e0e-4922-9e01-e8e304412c3e",
   "metadata": {},
   "outputs": [
    {
     "data": {
      "text/plain": [
       "3"
      ]
     },
     "execution_count": 15,
     "metadata": {},
     "output_type": "execute_result"
    }
   ],
   "source": [
    "next(ite)"
   ]
  },
  {
   "cell_type": "code",
   "execution_count": 16,
   "id": "06126543-0fd6-40cb-abf2-6e2a9a82af2d",
   "metadata": {},
   "outputs": [
    {
     "data": {
      "text/plain": [
       "4"
      ]
     },
     "execution_count": 16,
     "metadata": {},
     "output_type": "execute_result"
    }
   ],
   "source": [
    "next(ite)"
   ]
  },
  {
   "cell_type": "code",
   "execution_count": 17,
   "id": "ce8faf92-869b-4690-88f9-13044c66c31c",
   "metadata": {},
   "outputs": [
    {
     "ename": "StopIteration",
     "evalue": "",
     "output_type": "error",
     "traceback": [
      "\u001b[0;31m---------------------------------------------------------------------------\u001b[0m",
      "\u001b[0;31mStopIteration\u001b[0m                             Traceback (most recent call last)",
      "Cell \u001b[0;32mIn[17], line 2\u001b[0m\n\u001b[1;32m      1\u001b[0m \u001b[38;5;66;03m## will raise error\u001b[39;00m\n\u001b[0;32m----> 2\u001b[0m \u001b[38;5;28;43mnext\u001b[39;49m\u001b[43m(\u001b[49m\u001b[43mite\u001b[49m\u001b[43m)\u001b[49m\n",
      "\u001b[0;31mStopIteration\u001b[0m: "
     ]
    }
   ],
   "source": [
    "## will raise error\n",
    "next(ite)"
   ]
  },
  {
   "cell_type": "code",
   "execution_count": 18,
   "id": "4b6b303c-cdbb-4e48-8ec5-a89c8b74c98d",
   "metadata": {},
   "outputs": [
    {
     "name": "stdout",
     "output_type": "stream",
     "text": [
      "The iterator is empty.\n"
     ]
    }
   ],
   "source": [
    "try:\n",
    "    print(next(ite))\n",
    "except StopIteration:\n",
    "    print(\"The iterator is empty.\")"
   ]
  },
  {
   "cell_type": "code",
   "execution_count": 22,
   "id": "b66a3c36-48f9-4439-8128-aa602ec0620b",
   "metadata": {},
   "outputs": [],
   "source": [
    "#### Generator\n",
    "def square(n):\n",
    "    for i in range(n):\n",
    "        yield i*i"
   ]
  },
  {
   "cell_type": "code",
   "execution_count": 24,
   "id": "0fc0d3f4-96e7-463a-97fc-897ab65c98bc",
   "metadata": {},
   "outputs": [
    {
     "name": "stdout",
     "output_type": "stream",
     "text": [
      "0\n",
      "1\n",
      "4\n"
     ]
    }
   ],
   "source": [
    "for i in square(3):\n",
    "    print(i)"
   ]
  },
  {
   "cell_type": "code",
   "execution_count": 25,
   "id": "da8d7627-f861-4205-b0d1-3d0b5f16cbb6",
   "metadata": {},
   "outputs": [],
   "source": [
    "a = square(3)"
   ]
  },
  {
   "cell_type": "code",
   "execution_count": 26,
   "id": "f84ec009-7d84-49c1-939d-7fd3cf15c767",
   "metadata": {},
   "outputs": [
    {
     "data": {
      "text/plain": [
       "<generator object square at 0x7f8f267bf1b0>"
      ]
     },
     "execution_count": 26,
     "metadata": {},
     "output_type": "execute_result"
    }
   ],
   "source": [
    "a"
   ]
  },
  {
   "cell_type": "code",
   "execution_count": 27,
   "id": "02bd0f55-c5ed-41e3-90d2-e2adc88a0fd7",
   "metadata": {},
   "outputs": [
    {
     "data": {
      "text/plain": [
       "0"
      ]
     },
     "execution_count": 27,
     "metadata": {},
     "output_type": "execute_result"
    }
   ],
   "source": [
    "next(a)"
   ]
  },
  {
   "cell_type": "code",
   "execution_count": 28,
   "id": "b8ede9a7-9f50-4a47-ae66-15228d7d85b1",
   "metadata": {},
   "outputs": [
    {
     "data": {
      "text/plain": [
       "1"
      ]
     },
     "execution_count": 28,
     "metadata": {},
     "output_type": "execute_result"
    }
   ],
   "source": [
    "next(a)"
   ]
  },
  {
   "cell_type": "code",
   "execution_count": 29,
   "id": "ebdfa492-6a59-49f7-a0d3-bfd3f27339c2",
   "metadata": {},
   "outputs": [
    {
     "data": {
      "text/plain": [
       "4"
      ]
     },
     "execution_count": 29,
     "metadata": {},
     "output_type": "execute_result"
    }
   ],
   "source": [
    "next(a)"
   ]
  },
  {
   "cell_type": "code",
   "execution_count": 30,
   "id": "6749bb8e-c4af-456b-a4d8-4d9da08961c1",
   "metadata": {},
   "outputs": [
    {
     "ename": "StopIteration",
     "evalue": "",
     "output_type": "error",
     "traceback": [
      "\u001b[0;31m---------------------------------------------------------------------------\u001b[0m",
      "\u001b[0;31mStopIteration\u001b[0m                             Traceback (most recent call last)",
      "Cell \u001b[0;32mIn[30], line 2\u001b[0m\n\u001b[1;32m      1\u001b[0m \u001b[38;5;66;03m## will raise error \u001b[39;00m\n\u001b[0;32m----> 2\u001b[0m \u001b[38;5;28;43mnext\u001b[39;49m\u001b[43m(\u001b[49m\u001b[43ma\u001b[49m\u001b[43m)\u001b[49m\n",
      "\u001b[0;31mStopIteration\u001b[0m: "
     ]
    }
   ],
   "source": [
    "## will raise error \n",
    "next(a)"
   ]
  },
  {
   "cell_type": "markdown",
   "id": "ba0bb092-ee84-465f-9211-73f64e7b937c",
   "metadata": {},
   "source": [
    "#### Differences\n",
    "\n",
    "* To create iterator, we use iter() function and to create generator, we use function along with yield keyword. \n",
    "* Generator uses the yield keyword. It saves the local variable value.\n",
    "* Generators in Python help us to write fast and compact code.\n",
    "* Python iterator is much more memory efficient."
   ]
  },
  {
   "cell_type": "code",
   "execution_count": null,
   "id": "137901fe-ce05-4ceb-8cdc-25f69e3e6277",
   "metadata": {},
   "outputs": [],
   "source": []
  },
  {
   "cell_type": "code",
   "execution_count": null,
   "id": "d5ed0135-67ed-4591-af16-1a225d8e8e80",
   "metadata": {},
   "outputs": [],
   "source": []
  },
  {
   "cell_type": "code",
   "execution_count": null,
   "id": "d0b4527c-26ce-48d5-8576-b10b418b812e",
   "metadata": {},
   "outputs": [],
   "source": []
  }
 ],
 "metadata": {
  "kernelspec": {
   "display_name": "Python 3 (ipykernel)",
   "language": "python",
   "name": "python3"
  },
  "language_info": {
   "codemirror_mode": {
    "name": "ipython",
    "version": 3
   },
   "file_extension": ".py",
   "mimetype": "text/x-python",
   "name": "python",
   "nbconvert_exporter": "python",
   "pygments_lexer": "ipython3",
   "version": "3.10.8"
  }
 },
 "nbformat": 4,
 "nbformat_minor": 5
}
