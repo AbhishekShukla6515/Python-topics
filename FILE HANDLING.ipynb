{
 "cells": [
  {
   "cell_type": "markdown",
   "id": "443d342e-88b7-4d32-b906-faf7ffdf9a6d",
   "metadata": {},
   "source": [
    "# MCQs and important notes"
   ]
  },
  {
   "cell_type": "markdown",
   "id": "966aefb0-7026-487f-b75c-60327a309789",
   "metadata": {},
   "source": [
    "### 1"
   ]
  },
  {
   "cell_type": "markdown",
   "id": "f48446d8-645e-4fd6-ad2f-b51f265cccf1",
   "metadata": {},
   "source": [
    "To open a file c:\\scores.txt for reading, we use _____\n",
    "\n",
    "1.   .infile = open(“c:\\scores.txt”, “r”)\n",
    "2.   .infile = open(“c:\\\\scores.txt”, “r”)\n",
    "3.   infile = open(file = “c:\\scores.txt”, “r”)\n",
    "4.   infile = open(file = “c:\\\\scores.txt”, “r”)\n"
   ]
  },
  {
   "cell_type": "markdown",
   "id": "99f9b223-df79-4957-8231-53959d8339e8",
   "metadata": {},
   "source": [
    "Answer - The correct answer is 2.) infile = open(“c:\\\\scores.txt”, “r”). In Python, the backslash (\\\\) is an escape character, and is used to introduce special character sequences. If you want to include an actual backslash in a string, you have to escape it, hence \\\\\\\\. So, to open a file located at c:\\\\scores.txt, you would use the command open(\"c:\\\\\\\\scores.txt\", \"r\"). This opens the file in read mode (“r”)."
   ]
  },
  {
   "cell_type": "markdown",
   "id": "5a5de3aa-b59f-4927-ae5b-3b807b8ce2df",
   "metadata": {},
   "source": [
    "### 2"
   ]
  },
  {
   "cell_type": "markdown",
   "id": "574bdcf7-2327-4f4a-ae61-dfba00fef472",
   "metadata": {},
   "source": [
    "Which one of the following is not attributes of file?\n",
    "\n",
    "1. closed\n",
    "2. softspace\n",
    "3. rename\n",
    "4. mode"
   ]
  },
  {
   "cell_type": "markdown",
   "id": "f02f6b48-2c8a-484c-aa20-c62242b7ae25",
   "metadata": {},
   "source": [
    "Answer - rename is not the attribute of file rest all are files attributes. Attribute Description file.closed Returns true if file is closed, false otherwise. file.mode Returns access mode with which file was opened. file.name Returns name of the file. file.softspace Returns false if space explicitly required with print, true otherwise."
   ]
  },
  {
   "cell_type": "markdown",
   "id": "7e6c8348-bb30-4f41-98c7-d0eb17a50117",
   "metadata": {},
   "source": [
    "### 3"
   ]
  },
  {
   "cell_type": "markdown",
   "id": "a5bf68e1-64da-4ebb-9412-d07e0366a5dc",
   "metadata": {},
   "source": [
    "Which of these class contains the methods used to write in a file?\n",
    "\n",
    "1. FileStream\n",
    "2. FileInputStream\n",
    "3. BUfferedOutputStream\n",
    "4. FileBufferStream"
   ]
  },
  {
   "cell_type": "markdown",
   "id": "26e96253-1728-4023-a312-f9bad9b5473f",
   "metadata": {},
   "source": [
    "Answer - In Java, the FileOutputStream and FileWriter classes can be used to write to a file. The BufferedOutputStream class provides a buffering layer on top of an OutputStream, which can improve performance when writing to a file."
   ]
  },
  {
   "cell_type": "markdown",
   "id": "a145e866-acab-4987-a5bf-5316f3697ccc",
   "metadata": {},
   "source": [
    "### 4"
   ]
  },
  {
   "cell_type": "markdown",
   "id": "6161b120-7b7e-47e2-b6d5-b6aa9c2b251b",
   "metadata": {},
   "source": [
    "Debug is the lowest logging level, it's used to log some diagnostic information about the application."
   ]
  },
  {
   "cell_type": "markdown",
   "id": "f3c68a2b-51d8-4464-9958-344381a3845e",
   "metadata": {},
   "source": [
    "### 5"
   ]
  },
  {
   "cell_type": "markdown",
   "id": "d62648c7-6f5b-4dd9-bde1-85c8958ce576",
   "metadata": {},
   "source": [
    "Which of these is not involved in the process of debugging?\n",
    "\n",
    "1. Fixing\n",
    "2. Isolating\n",
    "3. Identifying\n",
    "4. Testing"
   ]
  },
  {
   "cell_type": "markdown",
   "id": "45b35fa5-3f65-4776-a86c-8b31ca36cd49",
   "metadata": {},
   "source": [
    "Answer - Testing is a different process and is different from debugging. Debugging involves identifying, isolating and fixation of the problems or errors."
   ]
  },
  {
   "cell_type": "markdown",
   "id": "2c9a0c5c-ae72-43bf-8c49-fc3abb6ce127",
   "metadata": {},
   "source": [
    "### 6"
   ]
  },
  {
   "cell_type": "markdown",
   "id": "5ce983af-653d-44e0-869a-533253de6261",
   "metadata": {},
   "source": [
    "How can you reload a module in Python?\n",
    "\n",
    "1. importlib.reload function.\n",
    "2. import reload\n",
    "3. import logging\n",
    "4. none of the above"
   ]
  },
  {
   "cell_type": "markdown",
   "id": "6dd73a18-1e61-4355-a81e-d7bcdd3e4a99",
   "metadata": {},
   "source": [
    "Answer - The importlib.reload function reloads a previously imported module, allowing you to pick up changes that have been made to the module's code. This is useful in situations where you are developing a module and need to test changes without restarting your program.\n",
    "\n"
   ]
  },
  {
   "cell_type": "code",
   "execution_count": null,
   "id": "01f17d8d-fcc0-49f8-87e3-0acdf204e12b",
   "metadata": {},
   "outputs": [],
   "source": []
  },
  {
   "cell_type": "code",
   "execution_count": null,
   "id": "4da102b0-5786-43af-a79e-10e506aad3e0",
   "metadata": {},
   "outputs": [],
   "source": []
  }
 ],
 "metadata": {
  "kernelspec": {
   "display_name": "Python 3 (ipykernel)",
   "language": "python",
   "name": "python3"
  },
  "language_info": {
   "codemirror_mode": {
    "name": "ipython",
    "version": 3
   },
   "file_extension": ".py",
   "mimetype": "text/x-python",
   "name": "python",
   "nbconvert_exporter": "python",
   "pygments_lexer": "ipython3",
   "version": "3.10.8"
  }
 },
 "nbformat": 4,
 "nbformat_minor": 5
}
