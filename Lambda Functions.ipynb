{
 "cells": [
  {
   "cell_type": "markdown",
   "id": "ae49ab54-1e63-4047-bcc5-5ca1a7b31797",
   "metadata": {},
   "source": [
    "# Lambda Function in Python"
   ]
  },
  {
   "cell_type": "markdown",
   "id": "a8b009d4-36a5-4263-8aa9-ae97fb1613d9",
   "metadata": {},
   "source": [
    "Lambda function is also called an anonymous function (function without a name). It can be defined in a single line of code.\n",
    "* Here, we use lambda keyword to create lambda functions."
   ]
  },
  {
   "cell_type": "code",
   "execution_count": 1,
   "id": "1d1b1b94-bb7d-45d8-9ad6-b56eedca35a4",
   "metadata": {},
   "outputs": [
    {
     "data": {
      "text/plain": [
       "<function __main__.<lambda>(x, y)>"
      ]
     },
     "execution_count": 1,
     "metadata": {},
     "output_type": "execute_result"
    }
   ],
   "source": [
    "f = lambda x,y : x+y\n",
    "f"
   ]
  },
  {
   "cell_type": "code",
   "execution_count": 2,
   "id": "8f4baaa2-f232-48d3-b8d7-e27557ca725d",
   "metadata": {},
   "outputs": [
    {
     "data": {
      "text/plain": [
       "11"
      ]
     },
     "execution_count": 2,
     "metadata": {},
     "output_type": "execute_result"
    }
   ],
   "source": [
    "f(5,6)"
   ]
  },
  {
   "cell_type": "code",
   "execution_count": 3,
   "id": "66811934-e5f2-468f-93b6-7b3637eaa0e3",
   "metadata": {},
   "outputs": [
    {
     "data": {
      "text/plain": [
       "12"
      ]
     },
     "execution_count": 3,
     "metadata": {},
     "output_type": "execute_result"
    }
   ],
   "source": [
    "## multiply example\n",
    "multiply = lambda x,y : x*y\n",
    "multiply(3,4)"
   ]
  },
  {
   "cell_type": "code",
   "execution_count": 4,
   "id": "5e6bf126-e817-48e2-9959-d922323b4b83",
   "metadata": {},
   "outputs": [
    {
     "data": {
      "text/plain": [
       "10"
      ]
     },
     "execution_count": 4,
     "metadata": {},
     "output_type": "execute_result"
    }
   ],
   "source": [
    "## return the length of a string\n",
    "string_length = lambda s : len(s)\n",
    "string_length(\"Krish Naik\")"
   ]
  },
  {
   "cell_type": "code",
   "execution_count": 5,
   "id": "8205557d-bdcf-47e7-a5bf-cdd1910cdf4d",
   "metadata": {},
   "outputs": [
    {
     "name": "stdout",
     "output_type": "stream",
     "text": [
      "[1, 4, 9, 16, 25, 36]\n"
     ]
    }
   ],
   "source": [
    "## convert list of integers to their corresponding square values\n",
    "numbers = [1,2,3,4,5,6]\n",
    "squares = list(map(lambda x : x**2, numbers))\n",
    "print(squares)"
   ]
  },
  {
   "cell_type": "code",
   "execution_count": 6,
   "id": "4ef1d915-e468-4915-81ca-49153b9908d4",
   "metadata": {},
   "outputs": [
    {
     "data": {
      "text/plain": [
       "[2, 4, 6]"
      ]
     },
     "execution_count": 6,
     "metadata": {},
     "output_type": "execute_result"
    }
   ],
   "source": [
    "## filter out even numbers from a list\n",
    "numbers = [1,2,3,4,5,6]\n",
    "list(filter(lambda x : x%2==0, numbers))"
   ]
  },
  {
   "cell_type": "code",
   "execution_count": 7,
   "id": "7001d8b5-1f45-4e0f-b9f2-509adc31247d",
   "metadata": {},
   "outputs": [],
   "source": [
    "## sort a list of strings based on their alphabetical characters and lengths\n",
    "fruits = [\"apple\", \"banana\", \"cherry\", \"date\", \"elderberry\"]"
   ]
  },
  {
   "cell_type": "code",
   "execution_count": 9,
   "id": "5274d9e9-6478-4e35-9fc8-e32cb9226677",
   "metadata": {},
   "outputs": [
    {
     "data": {
      "text/plain": [
       "['date', 'apple', 'banana', 'cherry', 'elderberry']"
      ]
     },
     "execution_count": 9,
     "metadata": {},
     "output_type": "execute_result"
    }
   ],
   "source": [
    "sorted(fruits,key = lambda x : len(x))"
   ]
  },
  {
   "cell_type": "code",
   "execution_count": 10,
   "id": "ff0e528d-8e7f-4fc4-92d7-184efc29fe60",
   "metadata": {},
   "outputs": [],
   "source": [
    "## complex example\n",
    "## sort a list of dictionaries based on a spceific key"
   ]
  },
  {
   "cell_type": "code",
   "execution_count": 11,
   "id": "663ee2fa-54a5-4be3-bdd9-2af474632368",
   "metadata": {},
   "outputs": [],
   "source": [
    "people = [{\"name\" : \"Alice\", \"age\" : 25, \"occupation\" : \"Engineer\"},\n",
    "          {\"name\" : \"Bob\", \"age\" : 30, \"occupation\" : \"Manager\"},\n",
    "          {\"name\" : \"Charlie\", \"age\" : 22, \"occupation\" : \"Intern\"},\n",
    "          {\"name\" : \"Dave\", \"age\" : 27, \"occupation\" : \"Designer\"}]"
   ]
  },
  {
   "cell_type": "code",
   "execution_count": 12,
   "id": "7b21722c-ad89-4237-9724-f28da3e9e5e3",
   "metadata": {},
   "outputs": [
    {
     "data": {
      "text/plain": [
       "[{'name': 'Charlie', 'age': 22, 'occupation': 'Intern'},\n",
       " {'name': 'Alice', 'age': 25, 'occupation': 'Engineer'},\n",
       " {'name': 'Dave', 'age': 27, 'occupation': 'Designer'},\n",
       " {'name': 'Bob', 'age': 30, 'occupation': 'Manager'}]"
      ]
     },
     "execution_count": 12,
     "metadata": {},
     "output_type": "execute_result"
    }
   ],
   "source": [
    "sorted(people,key = lambda x : x[\"age\"])"
   ]
  },
  {
   "cell_type": "code",
   "execution_count": 13,
   "id": "b21fb6df-6e08-408b-85ce-fb34995c4ed6",
   "metadata": {},
   "outputs": [
    {
     "data": {
      "text/plain": [
       "[{'name': 'Charlie', 'age': 22, 'occupation': 'Intern'},\n",
       " {'name': 'Alice', 'age': 25, 'occupation': 'Engineer'},\n",
       " {'name': 'Dave', 'age': 27, 'occupation': 'Designer'},\n",
       " {'name': 'Bob', 'age': 30, 'occupation': 'Manager'}]"
      ]
     },
     "execution_count": 13,
     "metadata": {},
     "output_type": "execute_result"
    }
   ],
   "source": [
    "## sort with two keys\n",
    "\n",
    "sorted(people,key = lambda x : (x[\"age\"],x[\"name\"]))"
   ]
  },
  {
   "cell_type": "code",
   "execution_count": 14,
   "id": "d2c0c509-bd6a-46cf-b690-c001ea0005a8",
   "metadata": {},
   "outputs": [
    {
     "data": {
      "text/plain": [
       "'b'"
      ]
     },
     "execution_count": 14,
     "metadata": {},
     "output_type": "execute_result"
    }
   ],
   "source": [
    "## finding maximum value in a dictionary\n",
    "data = {\"a\" : 10, \"b\" : 20, \"c\" : 5, \"d\" : 15}\n",
    "max(data,key = lambda x : data[x])"
   ]
  },
  {
   "cell_type": "code",
   "execution_count": 15,
   "id": "6a2e9ee3-b8b4-440f-af50-3b8d8cdb1b27",
   "metadata": {},
   "outputs": [],
   "source": [
    "## grouping a list of strings based on their first letter"
   ]
  },
  {
   "cell_type": "code",
   "execution_count": 16,
   "id": "5304be19-eef0-4335-be5d-6405fa23c73a",
   "metadata": {},
   "outputs": [
    {
     "name": "stdout",
     "output_type": "stream",
     "text": [
      "a ['apple']\n",
      "b ['banana']\n",
      "c ['cherry']\n",
      "d ['date']\n",
      "e ['elderberry']\n",
      "f ['fig']\n"
     ]
    }
   ],
   "source": [
    "from itertools import groupby\n",
    "\n",
    "words = [\"apple\", \"banana\", \"cherry\", \"date\", \"elderberry\", \"fig\"]\n",
    "\n",
    "groups = groupby(sorted(words), key = lambda x : x[0])\n",
    "\n",
    "for key,group in groups:\n",
    "    print(key,list(group))"
   ]
  },
  {
   "cell_type": "code",
   "execution_count": null,
   "id": "6b464b9b-e6a0-485b-9d23-df9adaf2df9a",
   "metadata": {},
   "outputs": [],
   "source": []
  }
 ],
 "metadata": {
  "kernelspec": {
   "display_name": "Python 3 (ipykernel)",
   "language": "python",
   "name": "python3"
  },
  "language_info": {
   "codemirror_mode": {
    "name": "ipython",
    "version": 3
   },
   "file_extension": ".py",
   "mimetype": "text/x-python",
   "name": "python",
   "nbconvert_exporter": "python",
   "pygments_lexer": "ipython3",
   "version": "3.10.8"
  }
 },
 "nbformat": 4,
 "nbformat_minor": 5
}
