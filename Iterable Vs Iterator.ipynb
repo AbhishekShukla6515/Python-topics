{
 "cells": [
  {
   "cell_type": "markdown",
   "id": "4c07ca80-8027-4dd2-b6aa-2725509fa6d4",
   "metadata": {},
   "source": [
    "# Python List Iterables Vs Iterators"
   ]
  },
  {
   "cell_type": "markdown",
   "id": "4919ceb9-a39a-44ce-ba0c-df492183db7d",
   "metadata": {},
   "source": [
    "Lists are basically iterables."
   ]
  },
  {
   "cell_type": "code",
   "execution_count": 3,
   "id": "cc5beb0d-c014-412e-bf7c-88e01b9e2333",
   "metadata": {},
   "outputs": [
    {
     "name": "stdout",
     "output_type": "stream",
     "text": [
      "1\n",
      "2\n",
      "3\n",
      "4\n",
      "5\n",
      "6\n",
      "7\n"
     ]
    }
   ],
   "source": [
    "## list is iterable\n",
    "\n",
    "lst = [1,2,3,4,5,6,7] # these all values will be allocated in the memory locations\n",
    "\n",
    "for i in lst:\n",
    "    print(i)"
   ]
  },
  {
   "cell_type": "code",
   "execution_count": 23,
   "id": "b0773e86-126d-4940-8dc0-b303d8727518",
   "metadata": {},
   "outputs": [
    {
     "data": {
      "text/plain": [
       "<list_iterator at 0x7fc6802f6470>"
      ]
     },
     "execution_count": 23,
     "metadata": {},
     "output_type": "execute_result"
    }
   ],
   "source": [
    "iter(lst) ## convert iterable into iterator"
   ]
  },
  {
   "cell_type": "markdown",
   "id": "3ec65bd0-8376-4011-a6e2-4c5db90ed59e",
   "metadata": {},
   "source": [
    "All the values will not be initialised in the memory. Once we call next() function, then only the first element present in the iterator will\n",
    "be initialised in the memory."
   ]
  },
  {
   "cell_type": "code",
   "execution_count": 6,
   "id": "689025f9-cff9-48be-a3a4-f418ce427271",
   "metadata": {},
   "outputs": [],
   "source": [
    "lst1 = iter(lst)"
   ]
  },
  {
   "cell_type": "code",
   "execution_count": 7,
   "id": "662eaa1a-5178-49a2-98cd-f26c4577030b",
   "metadata": {},
   "outputs": [
    {
     "data": {
      "text/plain": [
       "<list_iterator at 0x7fc68363e350>"
      ]
     },
     "execution_count": 7,
     "metadata": {},
     "output_type": "execute_result"
    }
   ],
   "source": [
    "lst1"
   ]
  },
  {
   "cell_type": "code",
   "execution_count": 8,
   "id": "37e093a9-bb93-4173-9088-71a42723d47d",
   "metadata": {},
   "outputs": [
    {
     "data": {
      "text/plain": [
       "1"
      ]
     },
     "execution_count": 8,
     "metadata": {},
     "output_type": "execute_result"
    }
   ],
   "source": [
    "next(lst1)"
   ]
  },
  {
   "cell_type": "code",
   "execution_count": 9,
   "id": "46df29ef-4666-4a27-9adb-6d5692394e0e",
   "metadata": {},
   "outputs": [
    {
     "data": {
      "text/plain": [
       "2"
      ]
     },
     "execution_count": 9,
     "metadata": {},
     "output_type": "execute_result"
    }
   ],
   "source": [
    "next(lst1)"
   ]
  },
  {
   "cell_type": "code",
   "execution_count": 10,
   "id": "09a49d55-027d-4d1b-8e9c-8a17eca5ee2e",
   "metadata": {},
   "outputs": [
    {
     "data": {
      "text/plain": [
       "3"
      ]
     },
     "execution_count": 10,
     "metadata": {},
     "output_type": "execute_result"
    }
   ],
   "source": [
    "next(lst1)"
   ]
  },
  {
   "cell_type": "code",
   "execution_count": 11,
   "id": "77cdfed9-1a54-4e4c-9e36-46e65e3106ca",
   "metadata": {},
   "outputs": [
    {
     "data": {
      "text/plain": [
       "4"
      ]
     },
     "execution_count": 11,
     "metadata": {},
     "output_type": "execute_result"
    }
   ],
   "source": [
    "next(lst1)"
   ]
  },
  {
   "cell_type": "code",
   "execution_count": 12,
   "id": "7d7fb6a7-48c2-449b-9135-174fe3f5c0a0",
   "metadata": {},
   "outputs": [
    {
     "data": {
      "text/plain": [
       "5"
      ]
     },
     "execution_count": 12,
     "metadata": {},
     "output_type": "execute_result"
    }
   ],
   "source": [
    "next(lst1)"
   ]
  },
  {
   "cell_type": "code",
   "execution_count": 13,
   "id": "f0c003a1-7e16-498f-8eca-7eb280b9bd95",
   "metadata": {},
   "outputs": [
    {
     "data": {
      "text/plain": [
       "6"
      ]
     },
     "execution_count": 13,
     "metadata": {},
     "output_type": "execute_result"
    }
   ],
   "source": [
    "next(lst1)"
   ]
  },
  {
   "cell_type": "code",
   "execution_count": 14,
   "id": "556266f3-e8ae-4d40-a659-2b0756e28d0e",
   "metadata": {},
   "outputs": [
    {
     "data": {
      "text/plain": [
       "7"
      ]
     },
     "execution_count": 14,
     "metadata": {},
     "output_type": "execute_result"
    }
   ],
   "source": [
    "next(lst1)"
   ]
  },
  {
   "cell_type": "code",
   "execution_count": 16,
   "id": "e7eb4b16-cc63-4fa5-b136-4ca55a22ed33",
   "metadata": {},
   "outputs": [
    {
     "ename": "StopIteration",
     "evalue": "",
     "output_type": "error",
     "traceback": [
      "\u001b[0;31m---------------------------------------------------------------------------\u001b[0m",
      "\u001b[0;31mStopIteration\u001b[0m                             Traceback (most recent call last)",
      "Cell \u001b[0;32mIn[16], line 3\u001b[0m\n\u001b[1;32m      1\u001b[0m \u001b[38;5;66;03m## will get an error\u001b[39;00m\n\u001b[0;32m----> 3\u001b[0m \u001b[38;5;28;43mnext\u001b[39;49m\u001b[43m(\u001b[49m\u001b[43mlst1\u001b[49m\u001b[43m)\u001b[49m\n",
      "\u001b[0;31mStopIteration\u001b[0m: "
     ]
    }
   ],
   "source": [
    "## will get an error\n",
    "\n",
    "next(lst1)"
   ]
  },
  {
   "cell_type": "code",
   "execution_count": 21,
   "id": "e068cbaf-73c3-4ac8-a61e-fb4471b28202",
   "metadata": {},
   "outputs": [],
   "source": [
    "lst2 = iter(lst)"
   ]
  },
  {
   "cell_type": "code",
   "execution_count": 22,
   "id": "47a579d0-1c43-4370-8306-35d3a69f6449",
   "metadata": {},
   "outputs": [
    {
     "name": "stdout",
     "output_type": "stream",
     "text": [
      "1\n",
      "2\n",
      "3\n",
      "4\n",
      "5\n",
      "6\n",
      "7\n"
     ]
    }
   ],
   "source": [
    "## another way of retrieving elements\n",
    "for i in lst2:\n",
    "    print(i)"
   ]
  },
  {
   "cell_type": "markdown",
   "id": "f81f3838-185a-49a0-86d5-a0fb92391cb2",
   "metadata": {},
   "source": [
    "In for-loop, the Stop-Iteration exception-handling is already done."
   ]
  },
  {
   "cell_type": "markdown",
   "id": "66e440b8-bed7-4dca-9a53-296ccb4483de",
   "metadata": {},
   "source": [
    "In case of iterables like list, on initialisation, all the values are stored in some memory location. \n",
    "\n",
    "But if we convert a list into an iterator, the memory will not be initialised initially. Only when, we will be calling the next() function (i.e., one-by-one elements will be initialised)"
   ]
  },
  {
   "cell_type": "code",
   "execution_count": null,
   "id": "f327ff05-6b24-4c96-a10e-bb98eac87a2b",
   "metadata": {},
   "outputs": [],
   "source": []
  },
  {
   "cell_type": "code",
   "execution_count": null,
   "id": "be30803f-aa12-412c-a293-0b4df7358f80",
   "metadata": {},
   "outputs": [],
   "source": []
  },
  {
   "cell_type": "code",
   "execution_count": null,
   "id": "4cde0fb2-0c7b-4936-9f21-6638747dbbac",
   "metadata": {},
   "outputs": [],
   "source": []
  },
  {
   "cell_type": "code",
   "execution_count": null,
   "id": "b8a3ec72-8c43-41d1-94d9-76b7d97fad43",
   "metadata": {},
   "outputs": [],
   "source": []
  },
  {
   "cell_type": "code",
   "execution_count": null,
   "id": "923529b4-b85d-4e8d-a253-26fd44adc053",
   "metadata": {},
   "outputs": [],
   "source": []
  },
  {
   "cell_type": "code",
   "execution_count": null,
   "id": "677b02db-1025-49f0-a18f-4186089b4a13",
   "metadata": {},
   "outputs": [],
   "source": []
  },
  {
   "cell_type": "code",
   "execution_count": null,
   "id": "a40e63fa-1861-4763-a0b2-7c4fb3b7370b",
   "metadata": {},
   "outputs": [],
   "source": []
  },
  {
   "cell_type": "code",
   "execution_count": null,
   "id": "9ac90a45-3405-4c00-bd10-6d6614f5fb7e",
   "metadata": {},
   "outputs": [],
   "source": []
  },
  {
   "cell_type": "code",
   "execution_count": null,
   "id": "f3b0cd56-c6ae-4a50-97e9-419806ef24c1",
   "metadata": {},
   "outputs": [],
   "source": []
  },
  {
   "cell_type": "code",
   "execution_count": null,
   "id": "a0e424c6-b0b8-480e-93a8-2c36d6064a50",
   "metadata": {},
   "outputs": [],
   "source": []
  },
  {
   "cell_type": "code",
   "execution_count": null,
   "id": "2f57e746-5130-4358-8796-d43ec9754613",
   "metadata": {},
   "outputs": [],
   "source": []
  },
  {
   "cell_type": "code",
   "execution_count": null,
   "id": "62304fb1-0fb1-43ea-a9e1-6647ac567bb6",
   "metadata": {},
   "outputs": [],
   "source": []
  },
  {
   "cell_type": "code",
   "execution_count": null,
   "id": "bb2dead6-6bfa-4538-b0a2-c6257b0e64a3",
   "metadata": {},
   "outputs": [],
   "source": []
  },
  {
   "cell_type": "code",
   "execution_count": null,
   "id": "e14e01b1-289d-49e9-abf2-db5a8077e6e1",
   "metadata": {},
   "outputs": [],
   "source": []
  },
  {
   "cell_type": "code",
   "execution_count": null,
   "id": "25b20937-080f-40b8-b04d-20d08fa64779",
   "metadata": {},
   "outputs": [],
   "source": []
  }
 ],
 "metadata": {
  "kernelspec": {
   "display_name": "Python 3 (ipykernel)",
   "language": "python",
   "name": "python3"
  },
  "language_info": {
   "codemirror_mode": {
    "name": "ipython",
    "version": 3
   },
   "file_extension": ".py",
   "mimetype": "text/x-python",
   "name": "python",
   "nbconvert_exporter": "python",
   "pygments_lexer": "ipython3",
   "version": "3.10.8"
  }
 },
 "nbformat": 4,
 "nbformat_minor": 5
}
